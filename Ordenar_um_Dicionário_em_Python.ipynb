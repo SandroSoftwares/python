{
  "nbformat": 4,
  "nbformat_minor": 0,
  "metadata": {
    "colab": {
      "name": "Ordenar um Dicionário em Python.ipynb",
      "provenance": [],
      "authorship_tag": "ABX9TyMa9DlDPbJDi5omBXBjGGo+",
      "include_colab_link": true
    },
    "kernelspec": {
      "name": "python3",
      "display_name": "Python 3"
    },
    "language_info": {
      "name": "python"
    }
  },
  "cells": [
    {
      "cell_type": "markdown",
      "metadata": {
        "id": "view-in-github",
        "colab_type": "text"
      },
      "source": [
        "<a href=\"https://colab.research.google.com/github/SandroSoftwares/python/blob/main/Ordenar_um_Dicion%C3%A1rio_em_Python.ipynb\" target=\"_parent\"><img src=\"https://colab.research.google.com/assets/colab-badge.svg\" alt=\"Open In Colab\"/></a>"
      ]
    },
    {
      "cell_type": "code",
      "metadata": {
        "colab": {
          "base_uri": "https://localhost:8080/"
        },
        "id": "NDBlwUP_F_DG",
        "outputId": "fb5d6124-ff29-443b-ff96-a9aee144d238"
      },
      "source": [
        "#Fala galera!\n",
        "\n",
        "#Digamos que você tenha um dicionário contendo nomes e idades e você deseje ordena-lo!\n",
        "\n",
        "dicionario = {'flavio':30, 'ana':50, 'roque':10, 'jasmyne':40}\n",
        "\n",
        "#A estrutura de um dicionário é composto por chave x valor, logo você tem que definir por qual dos dois critérios pretende ordenar...\n",
        "\n",
        "#Por parâmetro os itens de dicionario são ordenado por chave, logo:\n",
        "\n",
        "listaOrdenadaPelaChave = sorted(dicionario.items())\n",
        "print(listaOrdenadaPelaChave)\n",
        "\n",
        "#Obs: sorted retorna uma lista de tuplas\n",
        "\n",
        "#transformando a lista ordenada em um dicionário ordenado\n",
        "dicionarioOrdenadoPorChave = dict((x, y) for x, y in listaOrdenadaPelaChave)\n",
        "print(dicionarioOrdenadoPorChave)\n",
        "\n",
        "\n",
        "#E para odenar por valor? Usamos o parâmetro chave (Key) com uma função anônima lambda!\n",
        "\n",
        "#itens extraídos de um dicionário: item[0] = chave e item[1] = valor\n",
        "\n",
        "listaOrdenadaPeloValor = sorted(dicionario.items(), key = lambda item: item[1]) \n",
        "\n",
        "# a função anônima lambda diz: para cada item do dicionário utilize como chave de ordenação o valor\n",
        "\n",
        "print(listaOrdenadaPeloValor)\n",
        "\n",
        "#transformando a lista ordenada em um dicionário ordenado\n",
        "dicionarioOrdenadoPorValor = dict((x, y) for x, y in listaOrdenadaPeloValor)\n",
        "print(dicionarioOrdenadoPorValor)\n"
      ],
      "execution_count": 14,
      "outputs": [
        {
          "output_type": "stream",
          "text": [
            "[('ana', 50), ('flavio', 30), ('jasmyne', 40), ('roque', 10)]\n",
            "{'ana': 50, 'flavio': 30, 'jasmyne': 40, 'roque': 10}\n",
            "[('roque', 10), ('flavio', 30), ('jasmyne', 40), ('ana', 50)]\n",
            "{'roque': 10, 'flavio': 30, 'jasmyne': 40, 'ana': 50}\n"
          ],
          "name": "stdout"
        }
      ]
    },
    {
      "cell_type": "code",
      "metadata": {
        "id": "tX4roby_6VRl"
      },
      "source": [
        "from google.colab import drive\n",
        "drive.mount('/content/drive')"
      ],
      "execution_count": null,
      "outputs": []
    }
  ]
}