{
  "nbformat": 4,
  "nbformat_minor": 0,
  "metadata": {
    "colab": {
      "name": "como ordenar um dicionario em python.ipynb",
      "provenance": [],
      "authorship_tag": "ABX9TyOeMNbzpAZWCAVhu7hmQ7He"
    },
    "kernelspec": {
      "name": "python3",
      "display_name": "Python 3"
    },
    "language_info": {
      "name": "python"
    }
  },
  "cells": [
    {
      "cell_type": "markdown",
      "metadata": {
        "id": "chc5tbls9uRP"
      },
      "source": [
        "##Fala galera! \n",
        "##Esse tutorial vai te explicar como fazer ordenação de um dicionário em Python! \n",
        "##Inclusive mostrar o porquê de se usar a função lambda!"
      ]
    },
    {
      "cell_type": "markdown",
      "metadata": {
        "id": "tGw9Kb6n7FAE"
      },
      "source": [
        "Digamos que você tenha um dicionário contendo nomes e idades e você deseje ordena-lo!"
      ]
    },
    {
      "cell_type": "code",
      "metadata": {
        "id": "NDBlwUP_F_DG"
      },
      "source": [
        "dicionario = {'flavio':30, 'ana':50, 'roque':10, 'jasmyne':40}"
      ],
      "execution_count": null,
      "outputs": []
    },
    {
      "cell_type": "markdown",
      "metadata": {
        "id": "7sdpxuzv7TBi"
      },
      "source": [
        "\n",
        "A estrutura de um dicionário é composto por chave x valor, logo você tem que definir por qual dos dois critérios pretende ordenar...\n",
        "\n",
        "Por parâmetro os itens de dicionario são ordenado por chave, logo:\n"
      ]
    },
    {
      "cell_type": "code",
      "metadata": {
        "id": "MEx6UaZf7crB",
        "colab": {
          "base_uri": "https://localhost:8080/"
        },
        "outputId": "ac86b1af-257c-4689-96bb-3f6962c8280a"
      },
      "source": [
        "listaOrdenadaPelaChave = sorted(dicionario.items())\n",
        "print(listaOrdenadaPelaChave)"
      ],
      "execution_count": null,
      "outputs": [
        {
          "output_type": "stream",
          "text": [
            "[('ana', 50), ('flavio', 30), ('jasmyne', 40), ('roque', 10)]\n"
          ],
          "name": "stdout"
        }
      ]
    },
    {
      "cell_type": "markdown",
      "metadata": {
        "id": "XJAZhHyj7hwR"
      },
      "source": [
        "Obs: sorted retorna uma lista de tuplas.\n",
        "\n",
        "Iremos transformar a lista ordenada em um dicionário ordenado:"
      ]
    },
    {
      "cell_type": "code",
      "metadata": {
        "id": "y8MJgLi77oh5",
        "colab": {
          "base_uri": "https://localhost:8080/"
        },
        "outputId": "90ea9b7e-3252-469e-da28-6852e4cd6678"
      },
      "source": [
        "dicionarioOrdenadoPorChave = dict((x, y) for x, y in listaOrdenadaPelaChave)\n",
        "print(dicionarioOrdenadoPorChave)"
      ],
      "execution_count": null,
      "outputs": [
        {
          "output_type": "stream",
          "text": [
            "{'ana': 50, 'flavio': 30, 'jasmyne': 40, 'roque': 10}\n"
          ],
          "name": "stdout"
        }
      ]
    },
    {
      "cell_type": "markdown",
      "metadata": {
        "id": "c7cFl36D7rGJ"
      },
      "source": [
        "E para odenar um dicionário por valor? Usamos o parâmetro chave (Key) com uma função anônima lambda!\n",
        "\n",
        "Os seguintes itens podem ser extraídos de um dicionário: item[0] = chave e item[1] = valor"
      ]
    },
    {
      "cell_type": "code",
      "metadata": {
        "id": "yVM1dx8072Cw"
      },
      "source": [
        "listaOrdenadaPeloValor = sorted(dicionario.items(), key = lambda item: item[1]) "
      ],
      "execution_count": null,
      "outputs": []
    },
    {
      "cell_type": "markdown",
      "metadata": {
        "id": "AB4dA247707I"
      },
      "source": [
        "A função anônima lambda acima definida significa: para cada item do dicionário utilize como chave de ordenação o valor!"
      ]
    },
    {
      "cell_type": "code",
      "metadata": {
        "id": "op8cl-fI8BbI",
        "colab": {
          "base_uri": "https://localhost:8080/"
        },
        "outputId": "037a7b62-710c-4910-8730-a610e77a1f1f"
      },
      "source": [
        "print(listaOrdenadaPeloValor)"
      ],
      "execution_count": null,
      "outputs": [
        {
          "output_type": "stream",
          "text": [
            "[('roque', 10), ('flavio', 30), ('jasmyne', 40), ('ana', 50)]\n"
          ],
          "name": "stdout"
        }
      ]
    },
    {
      "cell_type": "markdown",
      "metadata": {
        "id": "V57r-t2N8DiQ"
      },
      "source": [
        "Transformando a lista ordenada em um dicionário ordenado:"
      ]
    },
    {
      "cell_type": "code",
      "metadata": {
        "id": "n2Z-ksF98Kb4",
        "colab": {
          "base_uri": "https://localhost:8080/"
        },
        "outputId": "1085826a-96c6-4619-eaf3-e88a94ecb623"
      },
      "source": [
        "dicionarioOrdenadoPorValor = dict((x, y) for x, y in listaOrdenadaPeloValor)\n",
        "print(dicionarioOrdenadoPorValor)"
      ],
      "execution_count": null,
      "outputs": [
        {
          "output_type": "stream",
          "text": [
            "{'roque': 10, 'flavio': 30, 'jasmyne': 40, 'ana': 50}\n"
          ],
          "name": "stdout"
        }
      ]
    }
  ]
}